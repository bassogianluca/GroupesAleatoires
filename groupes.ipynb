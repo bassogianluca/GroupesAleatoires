{
 "cells": [
  {
   "cell_type": "code",
   "execution_count": null,
   "metadata": {
    "trusted": true
   },
   "outputs": [
    {
     "data": {
      "application/vnd.jupyter.widget-view+json": {
       "model_id": "03f5927ac7104ee9b32432e30efa1650",
       "version_major": 2,
       "version_minor": 0
      },
      "text/plain": [
       "Dropdown(description='Classe :', options=('1C2', '1C3', '1M7', '1MMr1'), value='1C2')"
      ]
     },
     "metadata": {},
     "output_type": "display_data"
    },
    {
     "data": {
      "application/vnd.jupyter.widget-view+json": {
       "model_id": "360e7d18102b4691a8f94fdadf5e437a",
       "version_major": 2,
       "version_minor": 0
      },
      "text/plain": [
       "SelectMultiple(description='Absents :', options=('Lucie', 'Nima', 'Elena', 'Elise', 'Lina', 'Luca', 'Viggo', '…"
      ]
     },
     "metadata": {},
     "output_type": "display_data"
    },
    {
     "data": {
      "application/vnd.jupyter.widget-view+json": {
       "model_id": "482fe58c4d08424d8deb521d8d6d713d",
       "version_major": 2,
       "version_minor": 0
      },
      "text/plain": [
       "IntSlider(value=4, description='Taille :', max=6, min=2)"
      ]
     },
     "metadata": {},
     "output_type": "display_data"
    },
    {
     "data": {
      "application/vnd.jupyter.widget-view+json": {
       "model_id": "39666d0f142e4132a0c68515eee0ebc0",
       "version_major": 2,
       "version_minor": 0
      },
      "text/plain": [
       "IntSlider(value=1, description='Taille min :', max=6, min=1)"
      ]
     },
     "metadata": {},
     "output_type": "display_data"
    },
    {
     "data": {
      "application/vnd.jupyter.widget-view+json": {
       "model_id": "2b9f12fa0c6e47e3aaf2139fe9c428e3",
       "version_major": 2,
       "version_minor": 0
      },
      "text/plain": [
       "Dropdown(description='Rapide :', options=('Slow', 'Fast'), value='Slow')"
      ]
     },
     "metadata": {},
     "output_type": "display_data"
    },
    {
     "data": {
      "application/vnd.jupyter.widget-view+json": {
       "model_id": "d6a2923ca3c448eea3887926db0675b5",
       "version_major": 2,
       "version_minor": 0
      },
      "text/plain": [
       "Dropdown(description='Alph/Num :', options=('Alph', 'Num'), value='Alph')"
      ]
     },
     "metadata": {},
     "output_type": "display_data"
    },
    {
     "data": {
      "application/vnd.jupyter.widget-view+json": {
       "model_id": "8e2d99be7b6c4313a4570f54853b8be4",
       "version_major": 2,
       "version_minor": 0
      },
      "text/plain": [
       "Button(button_style='success', description='Groupes aléatoires', style=ButtonStyle())"
      ]
     },
     "metadata": {},
     "output_type": "display_data"
    },
    {
     "data": {
      "application/vnd.jupyter.widget-view+json": {
       "model_id": "ebbd08f49f644909aeca07d27329d462",
       "version_major": 2,
       "version_minor": 0
      },
      "text/plain": [
       "Output()"
      ]
     },
     "metadata": {},
     "output_type": "display_data"
    }
   ],
   "source": [
    "import random\n",
    "import time\n",
    "import ipywidgets as widgets\n",
    "from IPython.display import display, clear_output\n",
    "\n",
    "def print_names(nom, eleves, fast=False):\n",
    "    print(nom+\" :\", end=' ', flush=True)\n",
    "    if not fast:\n",
    "        time.sleep(1)\n",
    "    for eleve in eleves:\n",
    "        print(eleve, end=', ', flush=True)\n",
    "        if not fast:\n",
    "            time.sleep(1)\n",
    "    print()\n",
    "\n",
    "def groupes_aleatoires(taille, eleves, taille_min=1, fast=False, alph=False, noms=[], absents=[]):\n",
    "    if absents:\n",
    "        eleves = [eleve for eleve in eleves if eleve not in absents]\n",
    "    random.shuffle(eleves)\n",
    "    quot, reste = divmod(len(eleves), taille)\n",
    "    if reste >= taille_min:\n",
    "        groupes = [eleves[i*taille:(i+1)*taille] for i in range(quot)] + [eleves[quot*taille:]]\n",
    "    else:\n",
    "        groupes = [eleves[i*taille:(i+1)*taille] for i in range(quot-reste)] + \\\n",
    "                  [eleves[(quot-reste)*taille + j*(taille+1):(quot-reste)*taille + (j+1)*(taille+1)] for j in range(reste)]\n",
    "    return groupes\n",
    "\n",
    "# --- Example student lists ---\n",
    "classes = {\n",
    "    \"1C2\" : [\"Lucie\", \"Nima\", \"Elena\", \"Elise\", \"Lina\", \"Luca\", \"Viggo\", \"Julia\", \"Sylvia\", \"Léonie\", \"Syrine\", \"James\", \"Niobé\", \"Eva\", \"Nolhan\", \"Liliana\", \"Albert\", \"Ranish\", \"Ardjoune\", \"Ashlynn\", \"Beatrice\", \"Saron\"],\n",
    "\"1C3\" : [\"Giada\", \"Raphael\", \"Carlo\", \"Gloden\", \"Sara\", \"Lorenzo\",\"Marine\", \"Emma\", \"Adam\", \"Abigail\", \"Isayah\", \"Ynès\", \"Brianna\", \"Viktoriia\", \"Andreas\", \"Abraham Israelelu\", \"Alix Elena\", \"Anaïs\", \"Pauline\", \"Livia\", \"Simão\", \"Kaliroe\"],\n",
    "\"1M7\" : [\"Adam\", \"Devran\", \"Medina\", \"Timeo\", \"Mattia B\", \"Charles\", \"Lorenzo\", \"Agathe\", \"Anaïs\", \"Liv\", \"Celia\", \"Mattia G\", \"Esteban\", \"Moumen\", \"Inès\", \"Sophia\", \"Leandro\", \"Luca\", \"Olivia\", \"Dorian\", \"Kilian\", \"Forband\", \"Nora\", \"Viviana\", \"Alicia\"],\n",
    "\"1MMr1\" : [\"Timothée\", \"Sven\", \"Sabridjan\", \"Matilde\", \"Karine\", \"Elias\", \"Horia\", \"Samuel\", \"Julie\", \"Solenn\", \"Ludivine\", \"Juliette\", \"Elisa\", \"Alice\", \"Alessio\"]\n",
    "}\n",
    "\n",
    "# --- Widgets ---\n",
    "class_dropdown = widgets.Dropdown(options=list(classes.keys()), description=\"Classe :\")\n",
    "absents_selector = widgets.SelectMultiple(options=[], description=\"Absents :\")\n",
    "size_slider = widgets.IntSlider(value=4, min=2, max=6, step=1, description=\"Taille :\")\n",
    "min_size_slider = widgets.IntSlider(value=1, min=1, max=6, step=1, description=\"Taille min :\")\n",
    "alph_dropdown = widgets.Dropdown(options=[\"Alph\", \"Num\"], description=\"Alph/Num :\")\n",
    "fast_dropdown = widgets.Dropdown(options=[\"Slow\",\"Fast\"], description=\"Rapide :\")\n",
    "generate_button = widgets.Button(description=\"Groupes aléatoires\", button_style=\"success\")\n",
    "\n",
    "output = widgets.Output()\n",
    "\n",
    "# --- Update absents list when class changes ---\n",
    "def update_absents(change):\n",
    "    absents_selector.options = classes[change['new']]\n",
    "    absents_selector.value = ()\n",
    "\n",
    "class_dropdown.observe(update_absents, names='value')\n",
    "update_absents({'new': class_dropdown.value})  # initialize once\n",
    "\n",
    "# --- Generate groups ---\n",
    "def on_generate_clicked(b):\n",
    "    output.clear_output()\n",
    "    with output:\n",
    "        selected_class = class_dropdown.value\n",
    "        taille = size_slider.value\n",
    "        taille_min = min_size_slider.value\n",
    "        eleves = classes[selected_class]\n",
    "        absents = list(absents_selector.value)\n",
    "        groupes = groupes_aleatoires(taille, eleves, taille_min=taille_min,absents=absents)\n",
    "        fast = fast_dropdown.value == \"Fast\"   # True if \"Fast\", False if \"Slow\"\n",
    "        alph = alph_dropdown.value == \"Alph\"   # True if \"Alph\", False if \"Num\"\n",
    "        for i, groupe in enumerate(groupes, start=1):\n",
    "            if alph:\n",
    "            # the names of the groupes are \"Groupe A\", \"Groupe B\", etc.:\n",
    "                print_names(\"Groupe \"+chr(64+i), groupe, fast=fast)\n",
    "            else:\n",
    "                print_names(\"Groupe \"+str(i), groupe, fast=fast)\n",
    "\n",
    "generate_button.on_click(on_generate_clicked)\n",
    "\n",
    "display(class_dropdown, absents_selector, size_slider, min_size_slider, fast_dropdown, alph_dropdown, generate_button, output)"
   ]
  },
  {
   "cell_type": "code",
   "execution_count": null,
   "metadata": {
    "trusted": true
   },
   "outputs": [],
   "source": []
  }
 ],
 "metadata": {
  "kernelspec": {
   "display_name": "Python 3",
   "language": "python",
   "name": "python3"
  },
  "language_info": {
   "codemirror_mode": {
    "name": "ipython",
    "version": 3
   },
   "file_extension": ".py",
   "mimetype": "text/x-python",
   "name": "python",
   "nbconvert_exporter": "python",
   "pygments_lexer": "ipython3",
   "version": "3.10.4"
  }
 },
 "nbformat": 4,
 "nbformat_minor": 2
}
